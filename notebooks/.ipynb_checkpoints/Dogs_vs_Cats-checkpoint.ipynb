{
 "cells": [
  {
   "cell_type": "code",
   "execution_count": 3,
   "metadata": {},
   "outputs": [],
   "source": [
    "from tensorflow.python.keras.preprocessing.image import ImageDataGenerator\n",
    "from tensorflow.python.keras.models import Sequential\n",
    "from tensorflow.python.keras.layers import Conv2D, MaxPooling2D\n",
    "from tensorflow.python.keras.layers import Activation, Dropout, Flatten, Dense"
   ]
  },
  {
   "cell_type": "code",
   "execution_count": 4,
   "metadata": {},
   "outputs": [],
   "source": [
    "# Каталог с данными для обучения\n",
    "train_dir = 'train'\n",
    "# Каталог с данными для проверки\n",
    "val_dir = 'val'\n",
    "# Каталог с данными для тестирования\n",
    "test_dir = 'test'\n",
    "# Размеры изображения\n",
    "img_width, img_height = 150, 150\n",
    "# Размерность тензора на основе изображения для входных данных в нейронную сеть\n",
    "# backend Tensorflow, channels_last\n",
    "input_shape = (img_width, img_height, 3)\n",
    "# Количество эпох\n",
    "epochs = 30\n",
    "# Размер мини-выборки\n",
    "batch_size = 16\n",
    "# Количество изображений для обучения\n",
    "nb_train_samples = 17500\n",
    "# Количество изображений для проверки\n",
    "nb_validation_samples = 3750\n",
    "# Количество изображений для тестирования\n",
    "nb_test_samples = 3750"
   ]
  },
  {
   "cell_type": "code",
   "execution_count": 5,
   "metadata": {},
   "outputs": [],
   "source": [
    "model = Sequential()\n",
    "model.add(Conv2D(32, (3, 3), input_shape=input_shape))\n",
    "model.add(Activation('relu'))\n",
    "model.add(MaxPooling2D(pool_size=(2, 2)))\n",
    "\n",
    "model.add(Conv2D(32, (3, 3)))\n",
    "model.add(Activation('relu'))\n",
    "model.add(MaxPooling2D(pool_size=(2, 2)))\n",
    "\n",
    "model.add(Conv2D(64, (3, 3)))\n",
    "model.add(Activation('relu'))\n",
    "model.add(MaxPooling2D(pool_size=(2, 2)))\n",
    "\n",
    "model.add(Flatten())\n",
    "model.add(Dense(64))\n",
    "model.add(Activation('relu'))\n",
    "model.add(Dropout(0.5))\n",
    "model.add(Dense(1))\n",
    "model.add(Activation('sigmoid'))"
   ]
  },
  {
   "cell_type": "code",
   "execution_count": 6,
   "metadata": {},
   "outputs": [],
   "source": [
    "model.compile(loss='binary_crossentropy',\n",
    "              optimizer='adam',\n",
    "              metrics=['accuracy'])"
   ]
  },
  {
   "cell_type": "code",
   "execution_count": 7,
   "metadata": {},
   "outputs": [],
   "source": [
    "datagen = ImageDataGenerator(rescale=1. / 255)"
   ]
  },
  {
   "cell_type": "code",
   "execution_count": 8,
   "metadata": {},
   "outputs": [
    {
     "name": "stdout",
     "output_type": "stream",
     "text": [
      "Found 17500 images belonging to 2 classes.\n"
     ]
    }
   ],
   "source": [
    "train_generator = datagen.flow_from_directory(\n",
    "    train_dir,\n",
    "    target_size=(img_width, img_height),\n",
    "    batch_size=batch_size,\n",
    "    class_mode='binary')\n"
   ]
  },
  {
   "cell_type": "code",
   "execution_count": 9,
   "metadata": {},
   "outputs": [
    {
     "name": "stdout",
     "output_type": "stream",
     "text": [
      "Found 3750 images belonging to 2 classes.\n"
     ]
    }
   ],
   "source": [
    "val_generator = datagen.flow_from_directory(\n",
    "    val_dir,\n",
    "    target_size=(img_width, img_height),\n",
    "    batch_size=batch_size,\n",
    "    class_mode='binary')"
   ]
  },
  {
   "cell_type": "code",
   "execution_count": 10,
   "metadata": {},
   "outputs": [
    {
     "name": "stdout",
     "output_type": "stream",
     "text": [
      "Found 3750 images belonging to 2 classes.\n"
     ]
    }
   ],
   "source": [
    "test_generator = datagen.flow_from_directory(\n",
    "    test_dir,\n",
    "    target_size=(img_width, img_height),\n",
    "    batch_size=batch_size,\n",
    "    class_mode='binary')"
   ]
  },
  {
   "cell_type": "code",
   "execution_count": 11,
   "metadata": {},
   "outputs": [
    {
     "name": "stdout",
     "output_type": "stream",
     "text": [
      "Epoch 1/30\n",
      "1093/1093 [==============================] - 343s 314ms/step - loss: 0.6381 - acc: 0.6233 - val_loss: 0.5387 - val_acc: 0.7268\n",
      "Epoch 2/30\n",
      "1093/1093 [==============================] - 341s 312ms/step - loss: 0.5106 - acc: 0.7489 - val_loss: 0.4599 - val_acc: 0.7826\n",
      "Epoch 3/30\n",
      "1093/1093 [==============================] - 333s 305ms/step - loss: 0.4428 - acc: 0.7966 - val_loss: 0.4374 - val_acc: 0.7962\n",
      "Epoch 4/30\n",
      "1093/1093 [==============================] - 326s 299ms/step - loss: 0.3889 - acc: 0.8260 - val_loss: 0.4334 - val_acc: 0.8045\n",
      "Epoch 5/30\n",
      "1093/1093 [==============================] - 359s 328ms/step - loss: 0.3299 - acc: 0.8565 - val_loss: 0.4109 - val_acc: 0.8226\n",
      "Epoch 6/30\n",
      "1093/1093 [==============================] - 343s 313ms/step - loss: 0.2774 - acc: 0.8802 - val_loss: 0.4355 - val_acc: 0.8229\n",
      "Epoch 7/30\n",
      "1093/1093 [==============================] - 338s 309ms/step - loss: 0.2260 - acc: 0.9046 - val_loss: 0.4598 - val_acc: 0.8224\n",
      "Epoch 8/30\n",
      "1093/1093 [==============================] - 334s 305ms/step - loss: 0.1826 - acc: 0.9239 - val_loss: 0.4759 - val_acc: 0.8320\n",
      "Epoch 9/30\n",
      "1093/1093 [==============================] - 339s 310ms/step - loss: 0.1547 - acc: 0.9396 - val_loss: 0.5566 - val_acc: 0.8221\n",
      "Epoch 10/30\n",
      "1093/1093 [==============================] - 324s 296ms/step - loss: 0.1250 - acc: 0.9495 - val_loss: 0.5844 - val_acc: 0.8256\n",
      "Epoch 11/30\n",
      "1093/1093 [==============================] - 372s 340ms/step - loss: 0.1109 - acc: 0.9552 - val_loss: 0.6086 - val_acc: 0.8168\n",
      "Epoch 12/30\n",
      "1093/1093 [==============================] - 333s 305ms/step - loss: 0.1089 - acc: 0.9552 - val_loss: 0.6608 - val_acc: 0.8261\n",
      "Epoch 13/30\n",
      "1093/1093 [==============================] - 313s 287ms/step - loss: 0.0913 - acc: 0.9626 - val_loss: 0.7402 - val_acc: 0.8256\n",
      "Epoch 14/30\n",
      "1093/1093 [==============================] - 323s 296ms/step - loss: 0.0905 - acc: 0.9631 - val_loss: 0.7570 - val_acc: 0.8240\n",
      "Epoch 15/30\n",
      "1093/1093 [==============================] - 329s 301ms/step - loss: 0.0824 - acc: 0.9670 - val_loss: 0.8020 - val_acc: 0.8224\n",
      "Epoch 16/30\n",
      "1093/1093 [==============================] - 341s 312ms/step - loss: 0.0868 - acc: 0.9660 - val_loss: 0.6539 - val_acc: 0.8146\n",
      "Epoch 17/30\n",
      "1093/1093 [==============================] - 345s 316ms/step - loss: 0.0771 - acc: 0.9684 - val_loss: 0.7031 - val_acc: 0.8176\n",
      "Epoch 18/30\n",
      "1093/1093 [==============================] - 322s 295ms/step - loss: 0.0768 - acc: 0.9700 - val_loss: 0.9047 - val_acc: 0.8010\n",
      "Epoch 19/30\n",
      "1093/1093 [==============================] - 321s 294ms/step - loss: 0.0767 - acc: 0.9698 - val_loss: 0.8165 - val_acc: 0.8104\n",
      "Epoch 20/30\n",
      "1093/1093 [==============================] - 320s 293ms/step - loss: 0.0677 - acc: 0.9733 - val_loss: 0.8086 - val_acc: 0.8216\n",
      "Epoch 21/30\n",
      "1093/1093 [==============================] - 354s 324ms/step - loss: 0.0664 - acc: 0.9734 - val_loss: 0.8221 - val_acc: 0.8216\n",
      "Epoch 22/30\n",
      "1093/1093 [==============================] - 346s 317ms/step - loss: 0.0638 - acc: 0.9741 - val_loss: 0.8475 - val_acc: 0.8299\n",
      "Epoch 23/30\n",
      "1093/1093 [==============================] - 348s 318ms/step - loss: 0.0676 - acc: 0.9739 - val_loss: 1.0043 - val_acc: 0.8050\n",
      "Epoch 24/30\n",
      "1093/1093 [==============================] - 353s 323ms/step - loss: 0.0626 - acc: 0.9757 - val_loss: 0.7366 - val_acc: 0.8267\n",
      "Epoch 25/30\n",
      "1093/1093 [==============================] - 324s 296ms/step - loss: 0.0606 - acc: 0.9758 - val_loss: 0.9725 - val_acc: 0.8261\n",
      "Epoch 26/30\n",
      "1093/1093 [==============================] - 333s 305ms/step - loss: 0.0627 - acc: 0.9747 - val_loss: 0.9063 - val_acc: 0.8251\n",
      "Epoch 27/30\n",
      "1093/1093 [==============================] - 330s 302ms/step - loss: 0.0607 - acc: 0.9769 - val_loss: 0.9280 - val_acc: 0.8259\n",
      "Epoch 28/30\n",
      "1093/1093 [==============================] - 303s 277ms/step - loss: 0.0529 - acc: 0.9767 - val_loss: 0.8493 - val_acc: 0.8256\n",
      "Epoch 29/30\n",
      "1093/1093 [==============================] - 297s 272ms/step - loss: 0.0559 - acc: 0.9774 - val_loss: 0.9494 - val_acc: 0.8130\n",
      "Epoch 30/30\n",
      "1093/1093 [==============================] - 301s 275ms/step - loss: 0.0617 - acc: 0.9749 - val_loss: 0.9266 - val_acc: 0.8341\n"
     ]
    },
    {
     "data": {
      "text/plain": [
       "<tensorflow.python.keras.callbacks.History at 0x7f1388ad99e8>"
      ]
     },
     "execution_count": 11,
     "metadata": {},
     "output_type": "execute_result"
    }
   ],
   "source": [
    "model.fit_generator(\n",
    "    train_generator,\n",
    "    steps_per_epoch=nb_train_samples // batch_size,\n",
    "    epochs=epochs,\n",
    "    validation_data=val_generator,\n",
    "    validation_steps=nb_validation_samples // batch_size)"
   ]
  },
  {
   "cell_type": "code",
   "execution_count": 14,
   "metadata": {},
   "outputs": [],
   "source": [
    "scores = model.evaluate_generator(test_generator, nb_test_samples // batch_size)"
   ]
  },
  {
   "cell_type": "code",
   "execution_count": 15,
   "metadata": {},
   "outputs": [
    {
     "name": "stdout",
     "output_type": "stream",
     "text": [
      "Аккуратность на тестовых данных: 82.24%\n"
     ]
    }
   ],
   "source": [
    "print(\"Аккуратность на тестовых данных: %.2f%%\" % (scores[1]*100))"
   ]
  },
  {
   "cell_type": "code",
   "execution_count": 2,
   "metadata": {},
   "outputs": [
    {
     "name": "stderr",
     "output_type": "stream",
     "text": [
      "Using TensorFlow backend.\n"
     ]
    },
    {
     "name": "stdout",
     "output_type": "stream",
     "text": [
      "Downloading data from https://s3.amazonaws.com/img-datasets/mnist.npz\n",
      "11493376/11490434 [==============================] - 11s 1us/step\n"
     ]
    },
    {
     "name": "stderr",
     "output_type": "stream",
     "text": [
      "/usr/local/lib/python3.5/dist-packages/ipykernel_launcher.py:30: UserWarning: Update your `Dense` call to the Keras 2 API: `Dense(800, kernel_initializer=\"normal\", input_dim=784, activation=\"relu\")`\n",
      "/usr/local/lib/python3.5/dist-packages/ipykernel_launcher.py:31: UserWarning: Update your `Dense` call to the Keras 2 API: `Dense(10, kernel_initializer=\"normal\", activation=\"softmax\")`\n",
      "/usr/local/lib/python3.5/dist-packages/ipykernel_launcher.py:39: UserWarning: The `nb_epoch` argument in `fit` has been renamed `epochs`.\n"
     ]
    },
    {
     "name": "stdout",
     "output_type": "stream",
     "text": [
      "_________________________________________________________________\n",
      "Layer (type)                 Output Shape              Param #   \n",
      "=================================================================\n",
      "dense_1 (Dense)              (None, 800)               628000    \n",
      "_________________________________________________________________\n",
      "dense_2 (Dense)              (None, 10)                8010      \n",
      "=================================================================\n",
      "Total params: 636,010\n",
      "Trainable params: 636,010\n",
      "Non-trainable params: 0\n",
      "_________________________________________________________________\n",
      "None\n",
      "Train on 48000 samples, validate on 12000 samples\n",
      "Epoch 1/25\n",
      "48000/48000 [==============================] - 3s 56us/step - loss: 1.3220 - acc: 0.6917 - val_loss: 0.7795 - val_acc: 0.8502\n",
      "Epoch 2/25\n",
      "48000/48000 [==============================] - 2s 50us/step - loss: 0.6730 - acc: 0.8523 - val_loss: 0.5375 - val_acc: 0.8732\n",
      "Epoch 3/25\n",
      "48000/48000 [==============================] - 2s 51us/step - loss: 0.5239 - acc: 0.8726 - val_loss: 0.4494 - val_acc: 0.8883\n",
      "Epoch 4/25\n",
      "48000/48000 [==============================] - 2s 50us/step - loss: 0.4561 - acc: 0.8836 - val_loss: 0.4033 - val_acc: 0.8976\n",
      "Epoch 5/25\n",
      "48000/48000 [==============================] - 2s 49us/step - loss: 0.4161 - acc: 0.8912 - val_loss: 0.3734 - val_acc: 0.9034\n",
      "Epoch 6/25\n",
      "48000/48000 [==============================] - 2s 50us/step - loss: 0.3889 - acc: 0.8961 - val_loss: 0.3530 - val_acc: 0.9062\n",
      "Epoch 7/25\n",
      "48000/48000 [==============================] - 2s 50us/step - loss: 0.3686 - acc: 0.9008 - val_loss: 0.3370 - val_acc: 0.9103\n",
      "Epoch 8/25\n",
      "48000/48000 [==============================] - 2s 50us/step - loss: 0.3528 - acc: 0.9039 - val_loss: 0.3249 - val_acc: 0.9113\n",
      "Epoch 9/25\n",
      "48000/48000 [==============================] - 2s 51us/step - loss: 0.3399 - acc: 0.9067 - val_loss: 0.3145 - val_acc: 0.9141\n",
      "Epoch 10/25\n",
      "48000/48000 [==============================] - 2s 51us/step - loss: 0.3289 - acc: 0.9095 - val_loss: 0.3061 - val_acc: 0.9164\n",
      "Epoch 11/25\n",
      "48000/48000 [==============================] - 2s 51us/step - loss: 0.3194 - acc: 0.9123 - val_loss: 0.2985 - val_acc: 0.9170\n",
      "Epoch 12/25\n",
      "48000/48000 [==============================] - 2s 51us/step - loss: 0.3110 - acc: 0.9143 - val_loss: 0.2916 - val_acc: 0.9202\n",
      "Epoch 13/25\n",
      "48000/48000 [==============================] - 2s 52us/step - loss: 0.3035 - acc: 0.9163 - val_loss: 0.2855 - val_acc: 0.9214\n",
      "Epoch 14/25\n",
      "48000/48000 [==============================] - 2s 50us/step - loss: 0.2967 - acc: 0.9180 - val_loss: 0.2795 - val_acc: 0.9235\n",
      "Epoch 15/25\n",
      "48000/48000 [==============================] - 2s 52us/step - loss: 0.2904 - acc: 0.9197 - val_loss: 0.2747 - val_acc: 0.9241\n",
      "Epoch 16/25\n",
      "48000/48000 [==============================] - 2s 47us/step - loss: 0.2844 - acc: 0.9214 - val_loss: 0.2702 - val_acc: 0.9264\n",
      "Epoch 17/25\n",
      "48000/48000 [==============================] - 2s 47us/step - loss: 0.2792 - acc: 0.9231 - val_loss: 0.2655 - val_acc: 0.9273\n",
      "Epoch 18/25\n",
      "48000/48000 [==============================] - 2s 47us/step - loss: 0.2741 - acc: 0.9242 - val_loss: 0.2611 - val_acc: 0.9291\n",
      "Epoch 19/25\n",
      "48000/48000 [==============================] - 2s 47us/step - loss: 0.2692 - acc: 0.9258 - val_loss: 0.2572 - val_acc: 0.9300\n",
      "Epoch 20/25\n",
      "48000/48000 [==============================] - 2s 47us/step - loss: 0.2646 - acc: 0.9271 - val_loss: 0.2533 - val_acc: 0.9307\n",
      "Epoch 21/25\n",
      "48000/48000 [==============================] - 2s 46us/step - loss: 0.2603 - acc: 0.9283 - val_loss: 0.2497 - val_acc: 0.9311\n",
      "Epoch 22/25\n",
      "48000/48000 [==============================] - 2s 46us/step - loss: 0.2560 - acc: 0.9296 - val_loss: 0.2464 - val_acc: 0.9319\n",
      "Epoch 23/25\n",
      "48000/48000 [==============================] - 2s 47us/step - loss: 0.2521 - acc: 0.9305 - val_loss: 0.2432 - val_acc: 0.9325\n",
      "Epoch 24/25\n",
      "48000/48000 [==============================] - 2s 47us/step - loss: 0.2482 - acc: 0.9312 - val_loss: 0.2406 - val_acc: 0.9339\n",
      "Epoch 25/25\n",
      "48000/48000 [==============================] - 2s 46us/step - loss: 0.2446 - acc: 0.9324 - val_loss: 0.2366 - val_acc: 0.9342\n",
      "Точность работы на тестовых данных: 93.48%\n",
      "Сохраняем сеть\n",
      "Сохранение сети завершено\n"
     ]
    }
   ],
   "source": [
    "import numpy\n",
    "from keras.datasets import mnist\n",
    "from keras.models import Sequential\n",
    "from keras.layers import Dense\n",
    "from keras.utils import np_utils\n",
    "\n",
    "# Устанавливаем seed для повторяемости результатов\n",
    "numpy.random.seed(42)\n",
    "\n",
    "# Загружаем данные\n",
    "(X_train, y_train), (X_test, y_test) = mnist.load_data()\n",
    "\n",
    "# Преобразование размерности изображений\n",
    "X_train = X_train.reshape(60000, 784)\n",
    "X_test = X_test.reshape(10000, 784)\n",
    "# Нормализация данных\n",
    "X_train = X_train.astype('float32')\n",
    "X_test = X_test.astype('float32')\n",
    "X_train /= 255\n",
    "X_test /= 255\n",
    "\n",
    "# Преобразуем метки в категории\n",
    "Y_train = np_utils.to_categorical(y_train, 10)\n",
    "Y_test = np_utils.to_categorical(y_test, 10)\n",
    "\n",
    "# Создаем последовательную модель\n",
    "model = Sequential()\n",
    "\n",
    "# Добавляем уровни сети\n",
    "model.add(Dense(800, input_dim=784, init=\"normal\", activation=\"relu\"))\n",
    "model.add(Dense(10, init=\"normal\", activation=\"softmax\"))\n",
    "\n",
    "# Компилируем модель\n",
    "model.compile(loss=\"categorical_crossentropy\", optimizer=\"SGD\", metrics=[\"accuracy\"])\n",
    "\n",
    "print(model.summary())\n",
    "\n",
    "# Обучаем сеть\n",
    "model.fit(X_train, Y_train, batch_size=200, nb_epoch=25, validation_split=0.2, verbose=1)\n",
    "\n",
    "# Оцениваем качество обучения сети на тестовых данных\n",
    "scores = model.evaluate(X_test, Y_test, verbose=0)\n",
    "print(\"Точность работы на тестовых данных: %.2f%%\" % (scores[1]*100))\n",
    "\n",
    "print(\"Сохраняем сеть\")\n",
    "# Сохраняем сеть для последующего использования\n",
    "# Генерируем описание модели в формате json\n",
    "model_json = model.to_json()\n",
    "json_file = open(\"mnist_model.json\", \"w\")\n",
    "# Записываем архитектуру сети в файл\n",
    "json_file.write(model_json)\n",
    "json_file.close()\n",
    "# Записываем данные о весах в файл\n",
    "model.save_weights(\"mnist_model.h5\")\n",
    "print(\"Сохранение сети завершено\")"
   ]
  },
  {
   "cell_type": "code",
   "execution_count": 3,
   "metadata": {},
   "outputs": [],
   "source": [
    "# Генерируем описание модели в формате yaml\n",
    "model_yaml = model.to_yaml()\n",
    "yaml_file = open(\"mnist_model.yml\", \"w\")\n",
    "# Записываем модель в файл\n",
    "yaml_file.write(model_yaml)\n",
    "yaml_file.close()"
   ]
  },
  {
   "cell_type": "code",
   "execution_count": null,
   "metadata": {},
   "outputs": [],
   "source": []
  }
 ],
 "metadata": {
  "kernelspec": {
   "display_name": "Python 3",
   "language": "python",
   "name": "python3"
  },
  "language_info": {
   "codemirror_mode": {
    "name": "ipython",
    "version": 3
   },
   "file_extension": ".py",
   "mimetype": "text/x-python",
   "name": "python",
   "nbconvert_exporter": "python",
   "pygments_lexer": "ipython3",
   "version": "3.5.2"
  }
 },
 "nbformat": 4,
 "nbformat_minor": 2
}
